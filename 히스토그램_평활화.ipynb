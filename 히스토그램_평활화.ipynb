{
  "nbformat": 4,
  "nbformat_minor": 0,
  "metadata": {
    "colab": {
      "provenance": [],
      "authorship_tag": "ABX9TyOEks8DOUP254QygBFB3IXg",
      "include_colab_link": true
    },
    "kernelspec": {
      "name": "python3",
      "display_name": "Python 3"
    },
    "language_info": {
      "name": "python"
    }
  },
  "cells": [
    {
      "cell_type": "markdown",
      "metadata": {
        "id": "view-in-github",
        "colab_type": "text"
      },
      "source": [
        "<a href=\"https://colab.research.google.com/github/sinkerball/ImageProcessing/blob/master/%ED%9E%88%EC%8A%A4%ED%86%A0%EA%B7%B8%EB%9E%A8_%ED%8F%89%ED%99%9C%ED%99%94.ipynb\" target=\"_parent\"><img src=\"https://colab.research.google.com/assets/colab-badge.svg\" alt=\"Open In Colab\"/></a>"
      ]
    },
    {
      "cell_type": "code",
      "execution_count": 4,
      "metadata": {
        "colab": {
          "base_uri": "https://localhost:8080/"
        },
        "id": "f63_uIkoikDY",
        "outputId": "d2c42032-73e5-4008-e08b-15b37646946e"
      },
      "outputs": [
        {
          "output_type": "stream",
          "name": "stdout",
          "text": [
            "[[ 90   0   0   0   0  90  90 185]\n",
            " [ 90   0   0   0  90 185  90  90]\n",
            " [185  90  90 185 185 185  90  90]\n",
            " [235 185 185 185 235 185  90  90]\n",
            " [235 185  90 185 235 185  90   0]\n",
            " [255 235 185 185 235 185  90   0]\n",
            " [255 255 235 235 185  90   0   0]\n",
            " [255 235 185 235 185  90   0   0]]\n"
          ]
        }
      ],
      "source": [
        "import cv2\n",
        "import numpy as np\n",
        "\n",
        "src = np.array([[3,2,2,2,2,3,3,4],\n",
        "               [3,2,2,2,3,4,3,3],\n",
        "               [4,3,3,4,4,4,3,3],\n",
        "               [5,4,4,4,5,4,3,3],\n",
        "               [5,4,3,4,5,4,3,2],\n",
        "               [6,5,4,4,5,4,3,2],\n",
        "               [6,6,5,5,4,3,2,2],\n",
        "               [6,5,4,5,4,3,2,2]], dtype = np.uint8)\n",
        "\n",
        "dst= cv2. equalizeHist (src)\n",
        "print(dst)"
      ]
    }
  ]
}